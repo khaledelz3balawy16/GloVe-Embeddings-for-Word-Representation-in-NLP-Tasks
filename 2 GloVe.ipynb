{
 "cells": [
  {
   "cell_type": "markdown",
   "metadata": {},
   "source": [
    "تحميل المكتبات"
   ]
  },
  {
   "cell_type": "code",
   "execution_count": 1,
   "metadata": {},
   "outputs": [],
   "source": [
    "from __future__ import print_function, division\n",
    "from future.utils import iteritems\n",
    "from builtins import range\n",
    "import numpy as np\n",
    "from sklearn.metrics.pairwise import pairwise_distances"
   ]
  },
  {
   "cell_type": "markdown",
   "metadata": {},
   "source": [
    "عمل دالة المسافة لاستخدامها"
   ]
  },
  {
   "cell_type": "code",
   "execution_count": 2,
   "metadata": {},
   "outputs": [],
   "source": [
    "def dist1(a, b):\n",
    "    return np.linalg.norm(a - b)\n",
    "def dist2(a, b):\n",
    "    return 1 - a.dot(b) / (np.linalg.norm(a) * np.linalg.norm(b))\n",
    "\n",
    "dist, metric = dist2, 'cosine'\n",
    "# dist, metric = dist1, 'euclidean'"
   ]
  },
  {
   "cell_type": "markdown",
   "metadata": {},
   "source": [
    "عمل دالة لتنفيذ عملية الطرح"
   ]
  },
  {
   "cell_type": "code",
   "execution_count": 3,
   "metadata": {},
   "outputs": [],
   "source": [
    "def find_analogies(w1, w2, w3):\n",
    "    for w in (w1, w2, w3):\n",
    "        if w not in word2vec:\n",
    "            print(\"%s not in dictionary\" % w)\n",
    "            return\n",
    "\n",
    "    king = word2vec[w1]\n",
    "    man = word2vec[w2]\n",
    "    woman = word2vec[w3]\n",
    "    v0 = king - man + woman\n",
    "\n",
    "    min_dist = float('inf')\n",
    "    best_word = ''\n",
    "    for word, v1 in iteritems(word2vec):\n",
    "        if word not in (w1, w2, w3):\n",
    "            d = dist(v0, v1)\n",
    "            if d < min_dist:\n",
    "                min_dist = d\n",
    "                best_word = word\n",
    "    print(w1, \"-\", w2, \"=\", best_word, \"-\", w3)"
   ]
  },
  {
   "cell_type": "markdown",
   "metadata": {},
   "source": [
    "نفس الدالة السابقة بطريقة اسرع"
   ]
  },
  {
   "cell_type": "code",
   "execution_count": 4,
   "metadata": {},
   "outputs": [],
   "source": [
    "def find_analogies(w1, w2, w3):\n",
    "    for w in (w1, w2, w3):\n",
    "        if w not in word2vec:\n",
    "            print(\"%s not in dictionary\" % w)\n",
    "            return\n",
    "\n",
    "    king = word2vec[w1]\n",
    "    man = word2vec[w2]\n",
    "    woman = word2vec[w3]\n",
    "    v0 = king - man + woman\n",
    "\n",
    "    distances = pairwise_distances(v0.reshape(1, D),\n",
    "                                   embedding, metric=metric).reshape(V)\n",
    "    idxs = distances.argsort()[:4]\n",
    "    for idx in idxs:\n",
    "        word = idx2word[idx]\n",
    "        if word not in (w1, w2, w3): \n",
    "            best_word = word\n",
    "            break\n",
    "\n",
    "    print(w1, \"-\", w2, \"=\", best_word, \"-\", w3)"
   ]
  },
  {
   "cell_type": "markdown",
   "metadata": {},
   "source": [
    "عمل دالة لاختيار الكلمات الاقرب"
   ]
  },
  {
   "cell_type": "code",
   "execution_count": 5,
   "metadata": {},
   "outputs": [],
   "source": [
    "def nearest_neighbors(w, n=5):\n",
    "    if w not in word2vec:\n",
    "        print(\"%s not in dictionary:\" % w)\n",
    "        return\n",
    "\n",
    "    v = word2vec[w]\n",
    "    distances = pairwise_distances(v.reshape(1, D),\n",
    "                                   embedding, metric=metric).reshape(V)\n",
    "    idxs = distances.argsort()[1:n+1]\n",
    "    print(\"neighbors of: %s\" % w)\n",
    "    for idx in idxs:\n",
    "        print(\"\\t%s\" % idx2word[idx])"
   ]
  },
  {
   "cell_type": "markdown",
   "metadata": {},
   "source": [
    "قراءة البيانات "
   ]
  },
  {
   "cell_type": "markdown",
   "metadata": {},
   "source": [
    "للاسف مش لاقي رابط للداتا , و معنديش نسخة منها"
   ]
  },
  {
   "cell_type": "code",
   "execution_count": 6,
   "metadata": {},
   "outputs": [
    {
     "name": "stdout",
     "output_type": "stream",
     "text": [
      "Loading word vectors...\n",
      "Found 1538616 word vectors.\n"
     ]
    }
   ],
   "source": [
    "print('Loading word vectors...')\n",
    "word2vec = {}\n",
    "embedding = []\n",
    "idx2word = []\n",
    "\n",
    "with open(r'E:\\Machine Learning\\NLP\\0 Data\\GloVe Arabic\\vectors.txt', encoding='utf-8') as f:\n",
    "  # is just a space-separated text file in the format:\n",
    "  # word vec[0] vec[1] vec[2] ...\n",
    "    for line in f:\n",
    "        values = line.split()\n",
    "        word = values[0]\n",
    "        vec = np.asarray(values[1:], dtype='float32')\n",
    "        word2vec[word] = vec\n",
    "        embedding.append(vec)\n",
    "        idx2word.append(word)\n",
    "print('Found %s word vectors.' % len(word2vec))\n",
    "embedding = np.array(embedding)\n",
    "V, D = embedding.shape"
   ]
  },
  {
   "cell_type": "markdown",
   "metadata": {},
   "source": [
    "الاطلاع علي البيانات"
   ]
  },
  {
   "cell_type": "code",
   "execution_count": 7,
   "metadata": {},
   "outputs": [
    {
     "name": "stdout",
     "output_type": "stream",
     "text": [
      "word في   ,   with Vecs     [ 1.93690e-01 -6.86866e-01  2.09515e-01  3.07000e-04  1.07801e-01]\n",
      "word من   ,   with Vecs     [ 0.26445  -0.114958 -0.1762   -0.321987  0.551036]\n",
      "word ان   ,   with Vecs     [ 0.09579  -0.162807  0.374871  0.171119  0.143596]\n",
      "word الله   ,   with Vecs     [ 0.253038 -0.466478 -0.098423  0.239414  0.554534]\n",
      "word على   ,   with Vecs     [ 0.270321 -0.144998  0.378954  0.651957  0.493655]\n",
      "word بن   ,   with Vecs     [-0.339832 -0.145491  0.089327  0.491367 -0.229941]\n",
      "word عن   ,   with Vecs     [-0.487456 -0.066307 -0.394109  0.672397  0.297071]\n",
      "word الى   ,   with Vecs     [ 0.064656 -0.008531  0.590831  0.114019  0.488555]\n",
      "word قال   ,   with Vecs     [ 0.171996 -0.589999  0.487731  0.07855  -0.01483 ]\n",
      "word لا   ,   with Vecs     [-0.570863  0.095541  0.257263  0.107152  1.010352]\n",
      "word ما   ,   with Vecs     [-0.100211  0.033137 -0.02372  -0.019488  0.385497]\n",
      "word هذا   ,   with Vecs     [ 0.064279  0.046512 -0.034108 -0.029544  0.948949]\n",
      "word عليه   ,   with Vecs     [0.174331 0.096435 0.179063 0.336815 0.509577]\n",
      "word او   ,   with Vecs     [ 0.051795  0.186097  0.094964 -0.373967  0.396348]\n",
      "word ذلك   ,   with Vecs     [0.033094 0.153489 0.383445 0.128593 0.327311]\n",
      "word كان   ,   with Vecs     [ 0.24186   0.132586  0.263111 -0.03295   0.089807]\n",
      "word ابن   ,   with Vecs     [-0.185523 -0.262757  0.208635  0.130206  0.312551]\n",
      "word التي   ,   with Vecs     [ 0.260252 -0.432208  0.342592  0.492507  0.107906]\n",
      "word ولا   ,   with Vecs     [0.02573  0.067171 0.293578 0.109227 0.803941]\n",
      "word عبد   ,   with Vecs     [-0.020474 -0.155037  0.039866  0.224188  0.046423]\n",
      "word صلى   ,   with Vecs     [ 0.100761 -0.049725 -0.169696  0.070628  0.666132]\n",
      "word له   ,   with Vecs     [-0.098506  0.194938  0.123243 -0.052284  0.12921 ]\n",
      "word وسلم   ,   with Vecs     [ 0.067988  0.10344  -0.168889  0.08811   0.599697]\n",
      "word لم   ,   with Vecs     [ 0.007711 -0.504289  0.747332  1.005533  0.238889]\n",
      "word و   ,   with Vecs     [-0.261694 -0.068383  0.509684  0.115679  0.162025]\n",
      "word ابو   ,   with Vecs     [ 0.343987 -0.128187  0.427336  0.571662 -0.271936]\n",
      "word الا   ,   with Vecs     [-0.102561 -0.448788  0.42895   0.300628  0.254103]\n",
      "word انه   ,   with Vecs     [-0.176549 -0.294118  0.301853  0.034857  0.489966]\n",
      "word هو   ,   with Vecs     [-0.513962  0.242029  0.541088 -0.25351   0.399302]\n",
      "word به   ,   with Vecs     [-0.251756 -0.036521 -0.089006  0.159854  0.152145]\n",
      "word الذي   ,   with Vecs     [-0.237299 -0.181469  0.52318   0.123067  0.978123]\n",
      "word ابي   ,   with Vecs     [ 0.187918 -0.447353  0.187452  0.237334 -0.35398 ]\n",
      "word هذه   ,   with Vecs     [ 0.082999 -0.126183  0.063654  0.484199 -0.108814]\n",
      "word محمد   ,   with Vecs     [-0.082491 -0.313707 -0.089795  0.443178  0.343236]\n",
      "word اذا   ,   with Vecs     [0.132334 0.113107 0.450083 0.326644 0.282069]\n",
      "word ثم   ,   with Vecs     [-0.100469  0.493893  0.519272  0.431041  0.438156]\n",
      "word مع   ,   with Vecs     [ 0.080185  0.31014   0.617677 -0.237517  0.67194 ]\n",
      "word وهو   ,   with Vecs     [-0.764655 -0.118434  0.467454 -0.256852  0.507083]\n",
      "word اي   ,   with Vecs     [ 0.300374 -0.262614  0.086274  0.251295  0.310054]\n",
      "word فيه   ,   with Vecs     [ 0.29357  -0.270455  0.166975 -0.155455  0.701624]\n",
      "word كما   ,   with Vecs     [-0.192828  0.008965 -0.19052   0.06553   0.546453]\n",
      "word بين   ,   with Vecs     [-0.405941  0.273838  0.502288 -0.489196  0.775165]\n",
      "word كل   ,   with Vecs     [-0.535483 -0.393102 -0.240281  0.185715  0.360992]\n",
      "word وان   ,   with Vecs     [-0.121101  0.215424  0.119333  0.414856 -0.043666]\n",
      "word بعد   ,   with Vecs     [ 0.324518 -0.012256  0.869032  0.674044  0.24168 ]\n",
      "word وقد   ,   with Vecs     [-0.017271  0.022595 -0.117882  0.284688  0.35379 ]\n",
      "word غير   ,   with Vecs     [0.174332 0.131777 0.043617 0.132326 0.339465]\n",
      "word وقال   ,   with Vecs     [ 0.081959 -0.010148 -0.009819  0.501428 -0.126562]\n",
      "word وفي   ,   with Vecs     [ 0.019783  0.024915 -0.201963  0.060895  0.147774]\n"
     ]
    }
   ],
   "source": [
    "i = 0\n",
    "for a,b in word2vec.items() : \n",
    "    i+=1\n",
    "    if i==50 : break\n",
    "    print(f'word {a}   ,   with Vecs     {b[:5]}')    "
   ]
  },
  {
   "cell_type": "code",
   "execution_count": 8,
   "metadata": {},
   "outputs": [
    {
     "data": {
      "text/plain": [
       "array([ 1.93690e-01, -6.86866e-01,  2.09515e-01,  3.07000e-04,\n",
       "        1.07801e-01, -1.17143e-01, -1.32189e-01,  3.89160e-01,\n",
       "       -3.99303e-01, -1.41604e-01], dtype=float32)"
      ]
     },
     "execution_count": 8,
     "metadata": {},
     "output_type": "execute_result"
    }
   ],
   "source": [
    "embedding[0][:10]"
   ]
  },
  {
   "cell_type": "code",
   "execution_count": 9,
   "metadata": {},
   "outputs": [
    {
     "data": {
      "text/plain": [
       "['في',\n",
       " 'من',\n",
       " 'ان',\n",
       " 'الله',\n",
       " 'على',\n",
       " 'بن',\n",
       " 'عن',\n",
       " 'الى',\n",
       " 'قال',\n",
       " 'لا',\n",
       " 'ما',\n",
       " 'هذا',\n",
       " 'عليه',\n",
       " 'او',\n",
       " 'ذلك',\n",
       " 'كان',\n",
       " 'ابن',\n",
       " 'التي',\n",
       " 'ولا',\n",
       " 'عبد']"
      ]
     },
     "execution_count": 9,
     "metadata": {},
     "output_type": "execute_result"
    }
   ],
   "source": [
    "idx2word[:20]"
   ]
  },
  {
   "cell_type": "code",
   "execution_count": 10,
   "metadata": {},
   "outputs": [
    {
     "data": {
      "text/plain": [
       "256"
      ]
     },
     "execution_count": 10,
     "metadata": {},
     "output_type": "execute_result"
    }
   ],
   "source": [
    "len(embedding[0])"
   ]
  },
  {
   "cell_type": "markdown",
   "metadata": {},
   "source": [
    "عمليات الطرح"
   ]
  },
  {
   "cell_type": "code",
   "execution_count": 11,
   "metadata": {},
   "outputs": [
    {
     "name": "stdout",
     "output_type": "stream",
     "text": [
      "ملك - رجال = وملك - نساء\n",
      "فرنسا - باريس = بريطانيا - لندن\n",
      "فرنسا - باريس = ايطاليا - روما\n",
      "القاهرة - مصر = بيروت - سوريا\n",
      "فرنسا - الفرنسية = انجلترا - الانجليزية\n",
      "يمشي - مشي = فركب - ركب\n",
      "الرياض - السعودية = دارفور - السودان\n",
      "ولد - بنت = هو - هي\n"
     ]
    }
   ],
   "source": [
    "find_analogies('ملك', 'رجال', 'نساء')\n",
    "find_analogies('فرنسا', 'باريس', 'لندن')\n",
    "find_analogies('فرنسا', 'باريس', 'روما')\n",
    "find_analogies('القاهرة','مصر','سوريا')\n",
    "find_analogies('فرنسا', 'الفرنسية', 'الانجليزية')\n",
    "find_analogies('يمشي', 'مشي', 'ركب')\n",
    "find_analogies('الرياض', 'السعودية', 'السودان')\n",
    "find_analogies('ولد', 'بنت', 'هي')"
   ]
  },
  {
   "cell_type": "markdown",
   "metadata": {},
   "source": [
    "الكلمات الاقرب"
   ]
  },
  {
   "cell_type": "code",
   "execution_count": 12,
   "metadata": {},
   "outputs": [
    {
     "name": "stdout",
     "output_type": "stream",
     "text": [
      "neighbors of: مشي\n",
      "\tالمشي\n",
      "\tمشية\n",
      "\tمشى\n",
      "\tيمشي\n",
      "\tتمشي\n",
      "neighbors of: مصر\n",
      "\tالمصرية\n",
      "\tالقاهرة\n",
      "\tبمصر\n",
      "\tالاسكندرية\n",
      "\tومصر\n",
      "neighbors of: يشرب\n",
      "\tشرب\n",
      "\tويشرب\n",
      "\tالشراب\n",
      "\tتشرب\n",
      "\tالخمر\n",
      "neighbors of: كلاب\n",
      "\tكلب\n",
      "\tربيعة\n",
      "\tالحارث\n",
      "\tوبنو\n",
      "\tاسد\n",
      "neighbors of: كتب\n",
      "\tكتبه\n",
      "\tالكتب\n",
      "\tوكتب\n",
      "\tالكتاب\n",
      "\tكتاب\n",
      "neighbors of: انترنت\n",
      "\tالانترنت\n",
      "\tشبكة\n",
      "\tالشبكة\n",
      "\tالكترونية\n",
      "\tالويب\n",
      "neighbors of: بنت\n",
      "\tاخت\n",
      "\tابنة\n",
      "\tزينب\n",
      "\tفاطمة\n",
      "\tامها\n"
     ]
    }
   ],
   "source": [
    "nearest_neighbors('مشي')\n",
    "nearest_neighbors('مصر')\n",
    "nearest_neighbors('يشرب')\n",
    "nearest_neighbors('كلاب')\n",
    "nearest_neighbors('كتب')\n",
    "nearest_neighbors('انترنت')\n",
    "nearest_neighbors('بنت')\n"
   ]
  },
  {
   "cell_type": "code",
   "execution_count": null,
   "metadata": {},
   "outputs": [],
   "source": []
  },
  {
   "cell_type": "code",
   "execution_count": null,
   "metadata": {},
   "outputs": [],
   "source": []
  },
  {
   "cell_type": "code",
   "execution_count": null,
   "metadata": {},
   "outputs": [],
   "source": []
  }
 ],
 "metadata": {
  "kernelspec": {
   "display_name": "Python 3 (ipykernel)",
   "language": "python",
   "name": "python3"
  },
  "language_info": {
   "codemirror_mode": {
    "name": "ipython",
    "version": 3
   },
   "file_extension": ".py",
   "mimetype": "text/x-python",
   "name": "python",
   "nbconvert_exporter": "python",
   "pygments_lexer": "ipython3",
   "version": "3.9.13"
  }
 },
 "nbformat": 4,
 "nbformat_minor": 4
}
